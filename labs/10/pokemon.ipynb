{
 "cells": [
  {
   "cell_type": "code",
   "execution_count": 1,
   "metadata": {},
   "outputs": [
    {
     "name": "stdout",
     "output_type": "stream",
     "text": [
      "Page saved as 'page.html'\n"
     ]
    }
   ],
   "source": [
    "import requests\n",
    "\n",
    "# Specify the URL of the page you want to download\n",
    "url = \"https://pokemondb.net/pokedex/all\"\n",
    "\n",
    "# Make a GET request to fetch the raw HTML content\n",
    "response = requests.get(url)\n",
    "\n",
    "# Check if the request was successful\n",
    "if response.status_code == 200:\n",
    "    # Save the content to an HTML file\n",
    "    with open(\"Pokemon.html\", \"w\", encoding=\"utf-8\") as file:\n",
    "        file.write(response.text)\n",
    "    print(\"Page saved as 'page.html'\")\n",
    "else:\n",
    "    print(f\"Failed to download page. Status code: {response.status_code}\")"
   ]
  },
  {
   "cell_type": "code",
   "execution_count": 1,
   "metadata": {},
   "outputs": [
    {
     "name": "stdout",
     "output_type": "stream",
     "text": [
      "      #                    Name          Type Total  HP Attack Defense  \\\n",
      "0  0001               Bulbasaur  Grass Poison   318  45     49      49   \n",
      "1  0002                 Ivysaur  Grass Poison   405  60     62      63   \n",
      "2  0003                Venusaur  Grass Poison   525  80     82      83   \n",
      "3  0003  Venusaur Mega Venusaur  Grass Poison   625  80    100     123   \n",
      "4  0004              Charmander          Fire   309  39     52      43   \n",
      "\n",
      "  Sp. Atk Sp. Def Speed  \n",
      "0      65      65    45  \n",
      "1      80      80    60  \n",
      "2     100     100    80  \n",
      "3     122     120    80  \n",
      "4      60      50    65  \n"
     ]
    }
   ],
   "source": [
    "import requests\n",
    "import pandas as pd\n",
    "from bs4 import BeautifulSoup\n",
    "\n",
    "# URL der Webseite\n",
    "url = \"https://pokemondb.net/pokedex/all\"\n",
    "\n",
    "# HTTP-Anfrage senden\n",
    "response = requests.get(url)\n",
    "response.raise_for_status()  # Fehler auslösen, falls die Anfrage fehlschlägt\n",
    "\n",
    "# HTML-Inhalt der Seite parsen\n",
    "soup = BeautifulSoup(response.text, 'html.parser')\n",
    "\n",
    "# Tabelle finden\n",
    "table = soup.find('table', {'id': 'pokedex'})\n",
    "\n",
    "# Tabellenüberschriften extrahieren\n",
    "headers = [header.text for header in table.find('thead').find_all('th')]\n",
    "\n",
    "# Tabelleninhalte extrahieren\n",
    "rows = []\n",
    "for row in table.find('tbody').find_all('tr'):\n",
    "    cells = row.find_all(['th', 'td'])\n",
    "    rows.append([cell.text.strip() for cell in cells])\n",
    "\n",
    "# DataFrame erstellen\n",
    "df = pd.DataFrame(rows, columns=headers)\n",
    "\n",
    "# Ausgabe des DataFrames\n",
    "print(df.head())\n",
    "\n",
    "# Optional: DataFrame in eine CSV-Datei speichern\n",
    "df.to_csv(\"pokemon_data.csv\", index=False)\n"
   ]
  },
  {
   "cell_type": "code",
   "execution_count": 3,
   "metadata": {},
   "outputs": [],
   "source": [
    "import requests\n",
    "import pandas as pd\n",
    "from bs4 import BeautifulSoup\n",
    "\n",
    "# URL of the webpage\n",
    "url = \"https://pokemondb.net/pokedex/all\"\n",
    "\n",
    "# HTTP request\n",
    "response = requests.get(url)\n",
    "response.raise_for_status()  # Raise error if the request fails\n",
    "\n",
    "# Parse the HTML content\n",
    "soup = BeautifulSoup(response.text, 'html.parser')\n",
    "\n",
    "# Find the table\n",
    "table = soup.find('table', {'id': 'pokedex'})\n",
    "\n",
    "# Extract table headers\n",
    "headers = [header.text for header in table.find('thead').find_all('th')]\n",
    "\n",
    "# Extract table rows\n",
    "rows = []\n",
    "for row in table.find('tbody').find_all('tr'):\n",
    "    cells = row.find_all(['th', 'td'])\n",
    "    rows.append([cell.text.strip() for cell in cells])\n",
    "\n",
    "# Create a DataFrame\n",
    "df = pd.DataFrame(rows, columns=headers)\n",
    "\n",
    "# Convert numerical columns to proper data types for analysis\n",
    "df['#'] = pd.to_numeric(df['#'], errors='coerce')\n",
    "df['Total'] = pd.to_numeric(df['Total'], errors='coerce')\n",
    "df['HP'] = pd.to_numeric(df['HP'], errors='coerce')\n",
    "df['Attack'] = pd.to_numeric(df['Attack'], errors='coerce')\n",
    "df['Defense'] = pd.to_numeric(df['Defense'], errors='coerce')\n",
    "df['Sp. Atk'] = pd.to_numeric(df['Sp. Atk'], errors='coerce')\n",
    "df['Sp. Def'] = pd.to_numeric(df['Sp. Def'], errors='coerce')\n",
    "df['Speed'] = pd.to_numeric(df['Speed'], errors='coerce')\n",
    "\n",
    "# Split types for better analysis\n",
    "df['Type 1'] = df['Type'].str.split().str[0]\n",
    "df['Type 2'] = df['Type'].str.split().str[1]\n",
    "\n",
    "# Helper function to print analysis results\n",
    "def print_analysis_results(title, results):\n",
    "    print(f\"\\n{title}\\n{'-' * len(title)}\")\n",
    "    print(results)\n"
   ]
  },
  {
   "cell_type": "code",
   "execution_count": 4,
   "metadata": {},
   "outputs": [
    {
     "name": "stdout",
     "output_type": "stream",
     "text": [
      "\n",
      "Strongest Pokémon (Overall)\n",
      "---------------------------\n",
      "                        Name  Total   Type 1    Type 2\n",
      "1058     Eternatus Eternamax   1125   Poison    Dragon\n",
      "201     Mewtwo Mega Mewtwo X    780  Psychic  Fighting\n",
      "202     Mewtwo Mega Mewtwo Y    780  Psychic       NaN\n",
      "475   Rayquaza Mega Rayquaza    780   Dragon    Flying\n",
      "471     Kyogre Primal Kyogre    770    Water       NaN\n",
      "\n",
      "Strongest Pokémon by Type\n",
      "-------------------------\n",
      "        Type 1                      Name  Total\n",
      "168        Bug        Pinsir Mega Pinsir    600\n",
      "862       Dark                   Yveltal    680\n",
      "475     Dragon    Rayquaza Mega Rayquaza    780\n",
      "1192  Electric                  Miraidon    670\n",
      "1054     Fairy      Zacian Crowned Sword    700\n",
      "1056  Fighting  Zamazenta Crowned Shield    700\n",
      "314       Fire                     Ho-oh    680\n",
      "767     Flying  Tornadus Incarnate Forme    580\n",
      "597      Ghost    Giratina Altered Forme    680\n",
      "319      Grass    Sceptile Mega Sceptile    630\n",
      "473     Ground    Groudon Primal Groudon    770\n",
      "191        Ice                  Articuno    580\n",
      "605     Normal                    Arceus    720\n",
      "1058    Poison       Eternatus Eternamax   1125\n",
      "201    Psychic      Mewtwo Mega Mewtwo X    780\n",
      "312       Rock  Tyranitar Mega Tyranitar    700\n",
      "462      Steel  Metagross Mega Metagross    700\n",
      "471      Water      Kyogre Primal Kyogre    770\n"
     ]
    }
   ],
   "source": [
    "# 2a. Stärksten Pokemon von jedem Typ\n",
    "strongest_overall = df.nlargest(5, 'Total')[['Name', 'Total', 'Type 1', 'Type 2']]\n",
    "print_analysis_results(\"Strongest Pokémon (Overall)\", strongest_overall)\n",
    "\n",
    "strongest_by_type = df.loc[df.groupby('Type 1')['Total'].idxmax()][['Type 1', 'Name', 'Total']]\n",
    "print_analysis_results(\"Strongest Pokémon by Type\", strongest_by_type)"
   ]
  },
  {
   "cell_type": "code",
   "execution_count": 5,
   "metadata": {},
   "outputs": [
    {
     "name": "stdout",
     "output_type": "stream",
     "text": [
      "\n",
      "Best Attackers\n",
      "--------------\n",
      "                         Name  Attack   Type 1    Type 2\n",
      "201      Mewtwo Mega Mewtwo X     190  Psychic  Fighting\n",
      "274  Heracross Mega Heracross     185      Bug  Fighting\n",
      "956                   Kartana     181    Grass     Steel\n",
      "473    Groudon Primal Groudon     180   Ground      Fire\n",
      "475    Rayquaza Mega Rayquaza     180   Dragon    Flying\n"
     ]
    }
   ],
   "source": [
    "# 2b. Stärksten Angreifer\n",
    "best_attackers = df.nlargest(5, 'Attack')[['Name', 'Attack', 'Type 1', 'Type 2']]\n",
    "print_analysis_results(\"Best Attackers\", best_attackers)"
   ]
  },
  {
   "cell_type": "code",
   "execution_count": 6,
   "metadata": {},
   "outputs": [
    {
     "name": "stdout",
     "output_type": "stream",
     "text": [
      "\n",
      "Average Stats by Type\n",
      "---------------------\n",
      "               Total         HP      Attack     Defense    Sp. Atk    Sp. Def  \\\n",
      "Type 1                                                                          \n",
      "Bug       381.164835  56.802198   70.912088   71.208791  55.549451  64.835165   \n",
      "Dark      449.714286  72.892857   85.482143   70.982143  72.267857  70.553571   \n",
      "Dragon    527.551020  84.571429  103.816327   80.816327  90.122449  83.571429   \n",
      "Electric  449.405405  63.837838   73.148649   65.837838  88.675676  70.405405   \n",
      "Fairy     449.225806  72.129032   71.064516   73.645161  78.129032  87.193548   \n",
      "Fighting  458.080000  75.740000  104.960000   76.440000  55.160000  69.660000   \n",
      "Fire      456.986842  70.763158   84.473684   69.315789  86.828947  71.644737   \n",
      "Flying    450.500000  70.900000   81.900000   67.400000  72.600000  70.900000   \n",
      "Ghost     438.276596  63.595745   72.000000   78.042553  82.361702  78.978723   \n",
      "Grass     426.460177  67.318584   77.743363   72.318584  75.353982  71.292035   \n",
      "Ground    441.957447  73.893617   94.085106   86.808511  56.872340  66.489362   \n",
      "Ice       438.627907  75.186047   80.046512   75.279070  69.069767  71.441860   \n",
      "Normal    413.283582  78.910448   76.820896   62.059701  59.537313  65.149254   \n",
      "Poison    439.510204  75.795918   77.000000   77.020408  68.897959  73.530612   \n",
      "Psychic   486.402439  73.841463   75.646341   71.524390  98.719512  86.304878   \n",
      "Rock      449.132353  68.117647   90.676471   97.352941  61.838235  72.735294   \n",
      "Steel     489.888889  71.177778   92.511111  114.266667  75.155556  79.222222   \n",
      "Water     436.806667  72.353333   76.920000   72.840000  75.453333  70.893333   \n",
      "\n",
      "              Speed  \n",
      "Type 1               \n",
      "Bug       61.857143  \n",
      "Dark      77.535714  \n",
      "Dragon    84.653061  \n",
      "Electric  87.500000  \n",
      "Fairy     67.064516  \n",
      "Fighting  76.120000  \n",
      "Fire      73.960526  \n",
      "Flying    86.800000  \n",
      "Ghost     63.297872  \n",
      "Grass     62.433628  \n",
      "Ground    63.808511  \n",
      "Ice       67.604651  \n",
      "Normal    70.805970  \n",
      "Poison    67.265306  \n",
      "Psychic   80.365854  \n",
      "Rock      58.411765  \n",
      "Steel     57.555556  \n",
      "Water     68.346667  \n"
     ]
    }
   ],
   "source": [
    "# 2c. Der Durschnitt von jedem Pokemon Typ\n",
    "average_stats_by_type = df.groupby('Type 1')[['Total', 'HP', 'Attack', 'Defense', 'Sp. Atk', 'Sp. Def', 'Speed']].mean()\n",
    "print_analysis_results(\"Average Stats by Type\", average_stats_by_type)"
   ]
  },
  {
   "cell_type": "code",
   "execution_count": 7,
   "metadata": {},
   "outputs": [],
   "source": [
    "# Optional: Save cleaned DataFrame to CSV\n",
    "df.to_csv(\"pokemon_data_cleaned.csv\", index=False)"
   ]
  }
 ],
 "metadata": {
  "kernelspec": {
   "display_name": "base",
   "language": "python",
   "name": "python3"
  },
  "language_info": {
   "codemirror_mode": {
    "name": "ipython",
    "version": 3
   },
   "file_extension": ".py",
   "mimetype": "text/x-python",
   "name": "python",
   "nbconvert_exporter": "python",
   "pygments_lexer": "ipython3",
   "version": "3.11.7"
  }
 },
 "nbformat": 4,
 "nbformat_minor": 2
}
