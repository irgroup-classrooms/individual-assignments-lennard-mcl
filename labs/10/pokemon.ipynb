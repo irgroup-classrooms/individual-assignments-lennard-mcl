{
 "cells": [
  {
   "cell_type": "code",
   "execution_count": 1,
   "metadata": {},
   "outputs": [
    {
     "name": "stdout",
     "output_type": "stream",
     "text": [
      "Page saved as 'page.html'\n"
     ]
    }
   ],
   "source": [
    "import requests\n",
    "\n",
    "# Specify the URL of the page you want to download\n",
    "url = \"https://pokemondb.net/pokedex/all\"\n",
    "\n",
    "# Make a GET request to fetch the raw HTML content\n",
    "response = requests.get(url)\n",
    "\n",
    "# Check if the request was successful\n",
    "if response.status_code == 200:\n",
    "    # Save the content to an HTML file\n",
    "    with open(\"Pokemon.html\", \"w\", encoding=\"utf-8\") as file:\n",
    "        file.write(response.text)\n",
    "    print(\"Page saved as 'page.html'\")\n",
    "else:\n",
    "    print(f\"Failed to download page. Status code: {response.status_code}\")"
   ]
  },
  {
   "cell_type": "code",
   "execution_count": 2,
   "metadata": {},
   "outputs": [
    {
     "name": "stdout",
     "output_type": "stream",
     "text": [
      "      #                    Name          Type Total  HP Attack Defense  \\\n",
      "0  0001               Bulbasaur  Grass Poison   318  45     49      49   \n",
      "1  0002                 Ivysaur  Grass Poison   405  60     62      63   \n",
      "2  0003                Venusaur  Grass Poison   525  80     82      83   \n",
      "3  0003  Venusaur Mega Venusaur  Grass Poison   625  80    100     123   \n",
      "4  0004              Charmander          Fire   309  39     52      43   \n",
      "\n",
      "  Sp. Atk Sp. Def Speed  \n",
      "0      65      65    45  \n",
      "1      80      80    60  \n",
      "2     100     100    80  \n",
      "3     122     120    80  \n",
      "4      60      50    65  \n"
     ]
    }
   ],
   "source": [
    "import requests\n",
    "import pandas as pd\n",
    "from bs4 import BeautifulSoup\n",
    "\n",
    "# URL der Webseite\n",
    "url = \"https://pokemondb.net/pokedex/all\"\n",
    "\n",
    "# HTTP-Anfrage senden\n",
    "response = requests.get(url)\n",
    "response.raise_for_status()  # Fehler auslösen, falls die Anfrage fehlschlägt\n",
    "\n",
    "# HTML-Inhalt der Seite parsen\n",
    "soup = BeautifulSoup(response.text, 'html.parser')\n",
    "\n",
    "# Tabelle finden\n",
    "table = soup.find('table', {'id': 'pokedex'})\n",
    "\n",
    "# Tabellenüberschriften extrahieren\n",
    "headers = [header.text for header in table.find('thead').find_all('th')]\n",
    "\n",
    "# Tabelleninhalte extrahieren\n",
    "rows = []\n",
    "for row in table.find('tbody').find_all('tr'):\n",
    "    cells = row.find_all(['th', 'td'])\n",
    "    rows.append([cell.text.strip() for cell in cells])\n",
    "\n",
    "# DataFrame erstellen\n",
    "df = pd.DataFrame(rows, columns=headers)\n",
    "\n",
    "# Ausgabe des DataFrames\n",
    "print(df.head())\n",
    "\n",
    "# Optional: DataFrame in eine CSV-Datei speichern\n",
    "df.to_csv(\"pokemon_data.csv\", index=False)\n"
   ]
  },
  {
   "cell_type": "code",
   "execution_count": 5,
   "metadata": {},
   "outputs": [
    {
     "name": "stdout",
     "output_type": "stream",
     "text": [
      "      #                    Name          Type Total  HP Attack Defense  \\\n",
      "0  0001               Bulbasaur  Grass Poison   318  45     49      49   \n",
      "1  0002                 Ivysaur  Grass Poison   405  60     62      63   \n",
      "2  0003                Venusaur  Grass Poison   525  80     82      83   \n",
      "3  0003  Venusaur Mega Venusaur  Grass Poison   625  80    100     123   \n",
      "4  0004              Charmander          Fire   309  39     52      43   \n",
      "\n",
      "  Sp. Atk Sp. Def Speed  \n",
      "0      65      65    45  \n",
      "1      80      80    60  \n",
      "2     100     100    80  \n",
      "3     122     120    80  \n",
      "4      60      50    65  \n"
     ]
    }
   ],
   "source": [
    "import requests\n",
    "import pandas as pd\n",
    "from bs4 import BeautifulSoup\n",
    "\n",
    "#URL der Webseite\n",
    "url = \"https://pokemondb.net/pokedex/all\"\n",
    "\n",
    "#HTTP-Anfrage senden\n",
    "response = requests.get(url)\n",
    "response.raise_for_status()  # Fehler auslösen, falls die Anfrage fehlschlägt\n",
    "\n",
    "#HTML-Inhalt der Seite parsen\n",
    "soup = BeautifulSoup(response.text, 'html.parser')\n",
    "\n",
    "#Tabelle finden\n",
    "table = soup.find('table', {'id': 'pokedex'})\n",
    "\n",
    "#Tabellenüberschriften extrahieren\n",
    "headers = [header.text for header in table.find('thead').find_all('th')]\n",
    "\n",
    "#Tabelleninhalte extrahieren\n",
    "rows = []\n",
    "for row in table.find('tbody').find_all('tr'):\n",
    "    cells = row.find_all(['th', 'td'])\n",
    "    rows.append([cell.text.strip() for cell in cells])\n",
    "\n",
    "#DataFrame erstellen\n",
    "df = pd.DataFrame(rows, columns=headers)\n",
    "\n",
    "#Ausgabe des DataFrames\n",
    "print(df.head())\n",
    "\n",
    "#Optional: DataFrame in eine CSV-Datei speichern\n",
    "df.to_csv(\"pokemon_data.csv\", index=False)"
   ]
  }
 ],
 "metadata": {
  "kernelspec": {
   "display_name": "base",
   "language": "python",
   "name": "python3"
  },
  "language_info": {
   "codemirror_mode": {
    "name": "ipython",
    "version": 3
   },
   "file_extension": ".py",
   "mimetype": "text/x-python",
   "name": "python",
   "nbconvert_exporter": "python",
   "pygments_lexer": "ipython3",
   "version": "3.11.7"
  }
 },
 "nbformat": 4,
 "nbformat_minor": 2
}
