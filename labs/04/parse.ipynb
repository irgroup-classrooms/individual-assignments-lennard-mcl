{
 "cells": [
  {
   "cell_type": "code",
   "execution_count": 5,
   "metadata": {},
   "outputs": [
    {
     "name": "stdout",
     "output_type": "stream",
     "text": [
      "Order Numbers: ['12345', '12346', '12347', '12348', '12349', '12350', '12351', '12352', '12353', '12354']\n",
      "Product Names: ['Laptop', 'Headphones', 'Smartphone', 'Monitor', 'Keyboard', 'Mouse', 'Tablet', 'Laptop', 'Camera', 'Headphones']\n",
      "Prices: ['$899.99', '$199.23', '$699.99', '$299.99', '$49.99', '$29.99', '$499.49', '$999.99', '$549.29', '$249.57']\n",
      "Order Dates: ['2023-09-15', '2023-09-16', '2023-09-17', '2023-09-18', '2023-09-19', '2023-09-20', '2023-09-21', '2023-09-22', '2023-09-23', '2023-09-24']\n",
      "Orders over $500: [('Order #12345', '899.99'), ('Order #12347', '699.99'), ('Order #12352', '999.99'), ('Order #12353', '549.29')]\n",
      "Formatted Dates: ['15/09/2023', '16/09/2023', '17/09/2023', '18/09/2023', '19/09/2023', '20/09/2023', '21/09/2023', '22/09/2023', '23/09/2023', '24/09/2023']\n",
      "Product Names with more than 6 characters: ['Headphones', 'Smartphone', 'Monitor', 'Keyboard', 'Headphones']\n",
      "Product Count: Counter({'Laptop': 2, 'Headphones': 2, 'Smartphone': 1, 'Monitor': 1, 'Keyboard': 1, 'Mouse': 1, 'Tablet': 1, 'Camera': 1})\n",
      "Orders with prices ending in .99: [('Order #12345', '899.99'), ('Order #12346', '699.99'), ('Order #12348', '299.99'), ('Order #12349', '49.99'), ('Order #12350', '29.99'), ('Order #12351', '999.99')]\n",
      "Cheapest Product: ('Mouse', 29.99)\n"
     ]
    }
   ],
   "source": [
    "import re\n",
    "from collections import Counter\n",
    "\n",
    "def main():\n",
    "    # Read the CSV file with the product orders\n",
    "    with open('orders.csv') as f_in:\n",
    "        text = f_in.read()\n",
    "\n",
    "    # Extract all order numbers (assuming order numbers are purely numeric)\n",
    "    order_numbers = re.findall(r'Order\\s#(\\d+)', text)\n",
    "    print(\"Order Numbers:\", order_numbers)\n",
    "\n",
    "    # Extract all product names (assuming product names are words or phrases with letters/spaces)\n",
    "    product_names = re.findall(r'Product:\\s([a-zA-Z\\s]+)', text)\n",
    "    print(\"Product Names:\", product_names)\n",
    "\n",
    "    # Extract all prices (assuming prices are in the format $XX.XX)\n",
    "    prices = re.findall(r'\\$\\d+\\.\\d{2}', text)\n",
    "    print(\"Prices:\", prices)\n",
    "\n",
    "    # Extract all order dates (assuming dates follow a format like YYYY-MM-DD)\n",
    "    order_dates = re.findall(r'\\d{4}-\\d{2}-\\d{2}', text)\n",
    "    print(\"Order Dates:\", order_dates)\n",
    "\n",
    "    # Find all orders for products priced over $500\n",
    "    expensive_orders = [\n",
    "        match for match in re.findall(r'(Order\\s#\\d+).*?\\$(\\d+\\.\\d{2})', text, re.S)\n",
    "        if float(match[1]) > 500\n",
    "    ]\n",
    "    print(\"Orders over $500:\", expensive_orders)\n",
    "\n",
    "    # Change the date format to DD/MM/YYYY\n",
    "    formatted_dates = [re.sub(r'(\\d{4})-(\\d{2})-(\\d{2})', r'\\3/\\2/\\1', date) for date in order_dates]\n",
    "    print(\"Formatted Dates:\", formatted_dates)\n",
    "\n",
    "    # Extract product names with more than 6 characters\n",
    "    long_product_names = [name for name in product_names if len(name) > 6]\n",
    "    print(\"Product Names with more than 6 characters:\", long_product_names)\n",
    "\n",
    "    # Count the occurrence of each product\n",
    "    product_count = Counter(product_names)\n",
    "    print(\"Product Count:\", product_count)\n",
    "\n",
    "    # Extract orders with prices ending in .99\n",
    "    orders_with_99_prices = [\n",
    "        match for match in re.findall(r'(Order\\s#\\d+).*?\\$(\\d+\\.99)', text, re.S)\n",
    "    ]\n",
    "    print(\"Orders with prices ending in .99:\", orders_with_99_prices)\n",
    "\n",
    "    # Find the cheapest product\n",
    "    price_values = [(name, float(price[1:])) for name, price in zip(product_names, prices)]\n",
    "    cheapest_product = min(price_values, key=lambda x: x[1])\n",
    "    print(\"Cheapest Product:\", cheapest_product)\n",
    "\n",
    "if __name__ == '__main__':\n",
    "    main()"
   ]
  }
 ],
 "metadata": {
  "kernelspec": {
   "display_name": "base",
   "language": "python",
   "name": "python3"
  },
  "language_info": {
   "codemirror_mode": {
    "name": "ipython",
    "version": 3
   },
   "file_extension": ".py",
   "mimetype": "text/x-python",
   "name": "python",
   "nbconvert_exporter": "python",
   "pygments_lexer": "ipython3",
   "version": "3.11.7"
  }
 },
 "nbformat": 4,
 "nbformat_minor": 2
}
